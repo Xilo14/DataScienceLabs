{
 "cells": [
  {
   "cell_type": "code",
   "execution_count": 69,
   "metadata": {},
   "outputs": [],
   "source": [
    "# Импорт необходимых библиотек, классов и ф-ций\n",
    "import numpy as np\n",
    "import pandas as pd\n",
    "from sklearn.model_selection import train_test_split\n",
    "from sklearn.naive_bayes import CategoricalNB"
   ]
  },
  {
   "cell_type": "code",
   "execution_count": 70,
   "metadata": {},
   "outputs": [],
   "source": [
    "def prepare_data(data_file_name):\n",
    "    # Шапка CSV-файла в виде массива, сформирована \n",
    "    # на основе файла 'agaricus-lepiota.name' из репозитория\n",
    "    header = ['class', 'cap_shape', 'cap_surface',\n",
    "              'cap_color', 'bruises', 'odor', 'gill_attachment',\n",
    "              'gill_spacing', 'gill_size', 'gill_color', 'stalk_shape',\n",
    "              'stalk_root', 'stalk_surface_above_ring',\n",
    "              'stalk_surface_below_ring', 'stalk_color_above_ring',\n",
    "              'stalk_color_below_ring', 'veil_type', 'veil_color',\n",
    "              'ring_number', 'ring_type', 'spore_print_color',\n",
    "              'population', 'habitat']\n",
    "    df = pd.read_csv(data_file_name, sep=',', names=header)\n",
    "\n",
    "    # Записи с \"?\" вместо параметра символизируют его отсутствие\n",
    "    # выбрасываем эти записи из нашего набора данных\n",
    "    df.replace('?', np.nan, inplace=True)\n",
    "    df.dropna(inplace=True)\n",
    "\n",
    "    # Съедобность или ядовитость обозначаются в нашем наборе данных\n",
    "    # символами 'e' или 'p' соответственно. Необходимо представить эти данные в числовом\n",
    "    # виде, поэтому делаем 0 вместо ядовитого, 1 - вместо съедобного значения\n",
    "    df['class'].replace('p', 0, inplace=True)\n",
    "    df['class'].replace('e', 1, inplace=True)\n",
    "\n",
    "    # Изначально параметры грибов представлены в символьном виде,\n",
    "    # то есть в виде слов. Tensor Flow может работать только с цифровыми\n",
    "    # данными. Библиотека Pandas с помощью функции \"get_dummies\"\n",
    "    # конвертирует наши данные в цифры\n",
    "    cols_to_transform = header[1:]\n",
    "    df = pd.get_dummies(df, columns=cols_to_transform)\n",
    "\n",
    "    # Теперь надо разделить конвертированные данные\n",
    "    # на два набора - один для тренировки (большой)\n",
    "    # и один для тестирования нейросети (поменьше)\n",
    "    df_train, df_test = train_test_split(df, test_size=0.2,random_state=56)\n",
    "\n",
    "    # Итоговые наборы записываем во временные csv-файлы, т.к.\n",
    "    # необходимо записать количества столбцов и строк в начало шапки\n",
    "    # рабочих csv, как того требует Tensor Flow\n",
    "    df_train.to_csv('train.csv', index=False)\n",
    "    df_test.to_csv('test.csv', index=False)"
   ]
  },
  {
   "cell_type": "code",
   "execution_count": 71,
   "metadata": {},
   "outputs": [],
   "source": [
    "# Подготовка данных\n",
    "prepare_data(\"agaricus-lepiota.data\")"
   ]
  },
  {
   "cell_type": "code",
   "execution_count": 72,
   "metadata": {},
   "outputs": [],
   "source": [
    "# Разбиение тестовой и обучающей выборки на X и Y\n",
    "\n",
    "test_df = pd.read_csv(\"test.csv\", sep=',')\n",
    "train_df = pd.read_csv(\"train.csv\", sep=',')\n",
    "\n",
    "# Входные данные: это вся таблица за исключение столбца 'class'\n",
    "x_test = test_df.drop(['class'], axis=1)  \n",
    "x_train = train_df.drop(['class'], axis=1)\n",
    "\n",
    "# Выходные данные: это только столбец 'class'\n",
    "y_test = test_df['class'] \n",
    "y_train = train_df['class']\n"
   ]
  },
  {
   "cell_type": "code",
   "execution_count": 91,
   "metadata": {},
   "outputs": [
    {
     "name": "stdout",
     "output_type": "stream",
     "text": [
      "Alpha = 1:\n",
      " Точность в тестовой выборке: 0.938884\n",
      " Точность в обучающей выборке: 0.939756\n",
      "\n",
      "Alpha = 0.5:\n",
      " Точность в тестовой выборке: 0.950399\n",
      " Точность в обучающей выборке: 0.946622\n",
      "\n",
      "Alpha = 1.0e-10:\n",
      " Точность в тестовой выборке: 0.994686\n",
      " Точность в обучающей выборке: 0.997785\n"
     ]
    }
   ],
   "source": [
    "# Создаем экземпляры классификаторов с разными глобальными параметрами\n",
    "cnb = CategoricalNB(alpha=1)\n",
    "cnb2 = CategoricalNB(alpha=0.5)\n",
    "cnb3 = CategoricalNB(alpha=1.0e-10)\n",
    "\n",
    "# Производим обучение\n",
    "cnb.fit(x_train, y_train)\n",
    "cnb2.fit(x_train, y_train)\n",
    "cnb3.fit(x_train, y_train)\n",
    "\n",
    "# Производим оценку и выводим результат обучения\n",
    "print(\"Alpha = 1:\")\n",
    "print(\" Точность в тестовой выборке: %f\" % cnb.score(x_test, y_test))\n",
    "print(\" Точность в обучающей выборке: %f\" % cnb.score(x_train, y_train))\n",
    "print()\n",
    "print(\"Alpha = 0.5:\")\n",
    "print(\" Точность в тестовой выборке: %f\" % cnb2.score(x_test, y_test))\n",
    "print(\" Точность в обучающей выборке: %f\" % cnb2.score(x_train, y_train))\n",
    "print()\n",
    "print(\"Alpha = 1.0e-10:\")\n",
    "print(\" Точность в тестовой выборке: %f\" % cnb3.score(x_test, y_test))\n",
    "print(\" Точность в обучающей выборке: %f\" % cnb3.score(x_train, y_train))"
   ]
  },
  {
   "cell_type": "code",
   "execution_count": 93,
   "metadata": {},
   "outputs": [
    {
     "data": {
      "image/png": "[encoded data removed]",
      "text/plain": [
       "<Figure size 432x288 with 1 Axes>"
      ]
     },
     "metadata": {
      "needs_background": "light"
     },
     "output_type": "display_data"
    }
   ],
   "source": [
    "\n",
    "from sklearn.metrics import RocCurveDisplay\n",
    "import matplotlib.pyplot as plt\n",
    "\n",
    "ax = plt.gca()\n",
    "\n",
    "cnb_disp = RocCurveDisplay.from_estimator(cnb, x_test, y_test, ax=ax, alpha=0.8)\n",
    "cnb2_disp = RocCurveDisplay.from_estimator(cnb2, x_test, y_test, ax=ax, alpha=0.8)\n",
    "cnb3_disp = RocCurveDisplay.from_estimator(cnb3, x_test, y_test, ax=ax, alpha=0.8)"
   ]
  }
 ],
 "metadata": {
  "interpreter": {
   "hash": "c8394f69f86accedaa86c78dcd44b1c4f1b381924fb0ce4229a63c47110f17c1"
  },
  "kernelspec": {
   "display_name": "Python 3.9.7 64-bit ('.venv': venv)",
   "name": "python3"
  },
  "language_info": {
   "codemirror_mode": {
    "name": "ipython",
    "version": 3
   },
   "file_extension": ".py",
   "mimetype": "text/x-python",
   "name": "python",
   "nbconvert_exporter": "python",
   "pygments_lexer": "ipython3",
   "version": "3.9.7"
  },
  "orig_nbformat": 4
 },
 "nbformat": 4,
 "nbformat_minor": 2
}
